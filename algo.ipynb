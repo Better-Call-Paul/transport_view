{
 "cells": [
  {
   "cell_type": "code",
   "execution_count": 9,
   "metadata": {},
   "outputs": [
    {
     "name": "stderr",
     "output_type": "stream",
     "text": [
      "WARNING:root:Requests made without an app_token will be subject to strict throttling limits.\n"
     ]
    },
    {
     "name": "stdout",
     "output_type": "stream",
     "text": [
      "    transit_timestamp transit_mode station_complex_id    station_complex  \\\n",
      "0 2023-09-13 09:00:00       subway                283  Greenpoint Av (G)   \n",
      "1 2023-03-24 10:00:00       subway                283  Greenpoint Av (G)   \n",
      "2 2023-02-16 20:00:00       subway                283  Greenpoint Av (G)   \n",
      "3 2023-06-27 21:00:00       subway                283  Greenpoint Av (G)   \n",
      "4 2023-01-18 13:00:00       subway                283  Greenpoint Av (G)   \n",
      "\n",
      "    borough payment_method    fare_class_category  ridership transfers  \\\n",
      "0  Brooklyn      metrocard      Metrocard - Other       19.0       0.0   \n",
      "1  Brooklyn      metrocard      Metrocard - Other       13.0       0.0   \n",
      "2  Brooklyn      metrocard      Metrocard - Other        2.0       0.0   \n",
      "3  Brooklyn      metrocard  Metrocard - Full Fare       23.0       2.0   \n",
      "4  Brooklyn      metrocard  Metrocard - Full Fare       64.0       1.0   \n",
      "\n",
      "             latitude           longitude  \\\n",
      "0           40.731354           -73.95445   \n",
      "1  40.731353759765625  -73.95445251464844   \n",
      "2  40.731353759765625  -73.95445251464844   \n",
      "3  40.731353759765625  -73.95445251464844   \n",
      "4  40.731353759765625  -73.95445251464844   \n",
      "\n",
      "                                        georeference  \\\n",
      "0  {'type': 'Point', 'coordinates': [-73.95445, 4...   \n",
      "1  {'type': 'Point', 'coordinates': [-73.95445251...   \n",
      "2  {'type': 'Point', 'coordinates': [-73.95445251...   \n",
      "3  {'type': 'Point', 'coordinates': [-73.95445251...   \n",
      "4  {'type': 'Point', 'coordinates': [-73.95445251...   \n",
      "\n",
      "  :@computed_region_kjdx_g34t :@computed_region_yamh_8v7k  \\\n",
      "0                        2090                         894   \n",
      "1                        2090                         894   \n",
      "2                        2090                         894   \n",
      "3                        2090                         894   \n",
      "4                        2090                         894   \n",
      "\n",
      "  :@computed_region_wbg7_3whc  \n",
      "0                         901  \n",
      "1                         901  \n",
      "2                         901  \n",
      "3                         901  \n",
      "4                         901  \n"
     ]
    }
   ],
   "source": [
    "import pandas as pd\n",
    "from sodapy import Socrata\n",
    "\n",
    "# Initialize the Socrata client\n",
    "client = Socrata(\"data.ny.gov\", None)\n",
    "\n",
    "# Fetch the data with a reasonable limit\n",
    "results = client.get(\"wujg-7c2s\", limit=5000)\n",
    "\n",
    "# Convert results to DataFrame\n",
    "df = pd.DataFrame.from_records(results)\n",
    "\n",
    "# Convert 'transit_timestamp' to datetime\n",
    "df['transit_timestamp'] = pd.to_datetime(df['transit_timestamp'])\n",
    "\n",
    "# Convert 'ridership' to numeric\n",
    "df['ridership'] = pd.to_numeric(df['ridership'], errors='coerce')\n",
    "\n",
    "print(df.head())\n"
   ]
  },
  {
   "cell_type": "code",
   "execution_count": 10,
   "metadata": {},
   "outputs": [
    {
     "name": "stdout",
     "output_type": "stream",
     "text": [
      "Average ridership for station 283 on the same day of the week and time: 39.3235294117647\n"
     ]
    }
   ],
   "source": [
    "def get_average_ridership_by_station_and_time(dataframe, station_id, query_time):\n",
    "    \"\"\"\n",
    "    Retrieve the average ridership for a given station and time, across the same day of the week.\n",
    "    \n",
    "    :param dataframe: DataFrame containing the MTA data\n",
    "    :param station_id: ID or name of the station complex\n",
    "    :param query_time: datetime or string representing the time to query (e.g., '08:00:00')\n",
    "    :return: Average ridership for the given time and day of the week\n",
    "    \"\"\"\n",
    "    # Ensure query_time is a datetime object for consistency\n",
    "    if isinstance(query_time, str):\n",
    "        query_time = pd.to_datetime(query_time)\n",
    "\n",
    "    # Filter data for the given station\n",
    "    station_filtered = dataframe[\n",
    "        (dataframe['station_complex_id'] == station_id) |\n",
    "        (dataframe['station_complex'].str.contains(station_id, case=False, na=False))\n",
    "    ].copy()\n",
    "\n",
    "    # Safely create new columns using loc\n",
    "    station_filtered.loc[:, 'day_of_week'] = station_filtered['transit_timestamp'].dt.dayofweek\n",
    "    station_filtered.loc[:, 'hour'] = station_filtered['transit_timestamp'].dt.hour\n",
    "\n",
    "    # Filter by day of the week and hour\n",
    "    day_hour_filtered = station_filtered[\n",
    "        (station_filtered['day_of_week'] == query_time.dayofweek) &\n",
    "        (station_filtered['hour'] == query_time.hour)\n",
    "    ]\n",
    "\n",
    "    # Calculate the average ridership\n",
    "    average_ridership = day_hour_filtered['ridership'].mean()\n",
    "\n",
    "    return average_ridership\n",
    "\n",
    "# Example usage\n",
    "station_complex_id = '283'  # Example Station ID or part of the name\n",
    "query_time = '2021-01-01 08:00:00'  # Example query time\n",
    "average_ridership = get_average_ridership_by_station_and_time(df, station_complex_id, query_time)\n",
    "print(f\"Average ridership for station {station_complex_id} on the same day of the week and time: {average_ridership}\")\n"
   ]
  }
 ],
 "metadata": {
  "kernelspec": {
   "display_name": "Python 3",
   "language": "python",
   "name": "python3"
  },
  "language_info": {
   "codemirror_mode": {
    "name": "ipython",
    "version": 3
   },
   "file_extension": ".py",
   "mimetype": "text/x-python",
   "name": "python",
   "nbconvert_exporter": "python",
   "pygments_lexer": "ipython3",
   "version": "3.10.5"
  }
 },
 "nbformat": 4,
 "nbformat_minor": 2
}
