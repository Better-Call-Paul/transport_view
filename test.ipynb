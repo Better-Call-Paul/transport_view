{
 "cells": [
  {
   "cell_type": "code",
   "execution_count": 2,
   "metadata": {},
   "outputs": [
    {
     "name": "stderr",
     "output_type": "stream",
     "text": [
      "/Users/ishaanpoojari/opt/anaconda3/lib/python3.9/site-packages/pandas/core/computation/expressions.py:21: UserWarning: Pandas requires version '2.8.4' or newer of 'numexpr' (version '2.8.1' currently installed).\n",
      "  from pandas.core.computation.check import NUMEXPR_INSTALLED\n",
      "/Users/ishaanpoojari/opt/anaconda3/lib/python3.9/site-packages/pandas/core/arrays/masked.py:60: UserWarning: Pandas requires version '1.3.6' or newer of 'bottleneck' (version '1.3.4' currently installed).\n",
      "  from pandas.core import (\n"
     ]
    }
   ],
   "source": [
    "import pandas as pd\n",
    "from joblib import load\n",
    "\n",
    "# Load the model from the file\n",
    "model = load('models/fiveMillionDatapointModel.joblib')"
   ]
  },
  {
   "cell_type": "code",
   "execution_count": 3,
   "metadata": {},
   "outputs": [
    {
     "name": "stdout",
     "output_type": "stream",
     "text": [
      "Predicted ridership for station ID 293 on day 5 at hour 15: 117.46905303030299\n"
     ]
    }
   ],
   "source": [
    "def predict_ridership(station_complex_id, day_of_week, hour):\n",
    "    # Format the input features as a DataFrame\n",
    "    input_features = pd.DataFrame({\n",
    "        'station_complex_id': [station_complex_id],\n",
    "        'day_of_week': [day_of_week],\n",
    "        'hour': [hour]\n",
    "    })\n",
    "    # Predict ridership\n",
    "    predicted_ridership = model.predict(input_features)\n",
    "    return predicted_ridership[0]\n",
    "\n",
    "# Example usage\n",
    "station_id_example = 293  # Replace with an actual station_complex_id\n",
    "day_of_week_example = 5  # Friday\n",
    "hour_example = 15  # 8 AM\n",
    "prediction = predict_ridership(station_id_example, day_of_week_example, hour_example)\n",
    "print(f\"Predicted ridership for station ID {station_id_example} on day {day_of_week_example} at hour {hour_example}: {prediction}\")"
   ]
  },
  {
   "cell_type": "code",
   "execution_count": null,
   "metadata": {},
   "outputs": [],
   "source": []
  }
 ],
 "metadata": {
  "kernelspec": {
   "display_name": "base",
   "language": "python",
   "name": "python3"
  },
  "language_info": {
   "codemirror_mode": {
    "name": "ipython",
    "version": 3
   },
   "file_extension": ".py",
   "mimetype": "text/x-python",
   "name": "python",
   "nbconvert_exporter": "python",
   "pygments_lexer": "ipython3",
   "version": "3.9.12"
  }
 },
 "nbformat": 4,
 "nbformat_minor": 2
}
