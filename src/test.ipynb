{
 "cells": [
  {
   "cell_type": "code",
   "execution_count": 11,
   "metadata": {},
   "outputs": [],
   "source": [
    "import pandas as pd\n",
    "from joblib import load\n",
    "\n",
    "# Load the model from the file\n",
    "model = load('models/fiveMillionDatapointModel.joblib')"
   ]
  },
  {
   "cell_type": "code",
   "execution_count": 12,
   "metadata": {},
   "outputs": [
    {
     "name": "stdout",
     "output_type": "stream",
     "text": [
      "Predicted ridership for station ID 283 on day 6 at hour 3: 13.298219036467481\n"
     ]
    }
   ],
   "source": [
    "def predict_ridership(station_complex_id, day_of_week, hour):\n",
    "    # Format the input features as a DataFrame\n",
    "    input_features = pd.DataFrame({\n",
    "        'station_complex_id': [station_complex_id],\n",
    "        'day_of_week': [day_of_week],\n",
    "        'hour': [hour]\n",
    "    })\n",
    "    # Predict ridership\n",
    "    predicted_ridership = model.predict(input_features)\n",
    "    return predicted_ridership[0]\n",
    "\n",
    "# Example usage\n",
    "station_id_example = 283  # Replace with an actual station_complex_id\n",
    "day_of_week_example = 6  # Friday\n",
    "hour_example = 3  # 8 AM\n",
    "prediction = predict_ridership(station_id_example, day_of_week_example, hour_example)\n",
    "print(f\"Predicted ridership for station ID {station_id_example} on day {day_of_week_example} at hour {hour_example}: {prediction}\")"
   ]
  },
  {
   "cell_type": "code",
   "execution_count": null,
   "metadata": {},
   "outputs": [],
   "source": []
  }
 ],
 "metadata": {
  "kernelspec": {
   "display_name": "base",
   "language": "python",
   "name": "python3"
  },
  "language_info": {
   "codemirror_mode": {
    "name": "ipython",
    "version": 3
   },
   "file_extension": ".py",
   "mimetype": "text/x-python",
   "name": "python",
   "nbconvert_exporter": "python",
   "pygments_lexer": "ipython3",
   "version": "3.9.12"
  }
 },
 "nbformat": 4,
 "nbformat_minor": 2
}
